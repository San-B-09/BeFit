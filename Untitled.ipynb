{
 "cells": [
  {
   "cell_type": "code",
   "execution_count": 1,
   "metadata": {},
   "outputs": [],
   "source": [
    "!C:/Users/himan/anaconda3/Scripts/activate"
   ]
  },
  {
   "cell_type": "code",
   "execution_count": 2,
   "metadata": {},
   "outputs": [],
   "source": [
    "!conda activate BeFit"
   ]
  },
  {
   "cell_type": "code",
   "execution_count": 3,
   "metadata": {},
   "outputs": [
    {
     "ename": "ModuleNotFoundError",
     "evalue": "No module named 'tensorflow'",
     "output_type": "error",
     "traceback": [
      "\u001b[1;31m---------------------------------------\u001b[0m",
      "\u001b[1;31mModuleNotFoundError\u001b[0mTraceback (most recent call last)",
      "\u001b[1;32m<ipython-input-3-7fa5e082113d>\u001b[0m in \u001b[0;36m<module>\u001b[1;34m\u001b[0m\n\u001b[1;32m----> 1\u001b[1;33m \u001b[1;32mimport\u001b[0m \u001b[0mtensorflow\u001b[0m \u001b[1;32mas\u001b[0m \u001b[0mtf\u001b[0m\u001b[1;33m\u001b[0m\u001b[1;33m\u001b[0m\u001b[0m\n\u001b[0m\u001b[0;32m      2\u001b[0m \u001b[1;32mimport\u001b[0m \u001b[0mcv2\u001b[0m\u001b[1;33m\u001b[0m\u001b[1;33m\u001b[0m\u001b[0m\n\u001b[0;32m      3\u001b[0m \u001b[1;32mimport\u001b[0m \u001b[0mposenet\u001b[0m\u001b[1;33m\u001b[0m\u001b[1;33m\u001b[0m\u001b[0m\n\u001b[0;32m      4\u001b[0m \u001b[1;32mfrom\u001b[0m \u001b[0mlucas\u001b[0m \u001b[1;32mimport\u001b[0m \u001b[0mposeEst\u001b[0m\u001b[1;33m\u001b[0m\u001b[1;33m\u001b[0m\u001b[0m\n\u001b[0;32m      5\u001b[0m \u001b[1;32mfrom\u001b[0m \u001b[0mlucas\u001b[0m \u001b[1;32mimport\u001b[0m \u001b[0mlucas\u001b[0m\u001b[1;33m\u001b[0m\u001b[1;33m\u001b[0m\u001b[0m\n",
      "\u001b[1;31mModuleNotFoundError\u001b[0m: No module named 'tensorflow'"
     ]
    }
   ],
   "source": [
    "import tensorflow as tf\n",
    "import cv2\n",
    "import posenet\n",
    "from lucas import poseEst\n",
    "from lucas import lucas\n",
    "import time\n",
    "\n",
    "sess,model_cfg,model_outputs,output_stride=poseEst.load_model()\n",
    "\n",
    "cap = cv2.VideoCapture(0)\n",
    "\n",
    "count=0\n",
    "gap=2\n",
    "win_s=10\n",
    "numLevel=2\n",
    "\n",
    "total_time=0\n",
    "start=None\n",
    "exec_data=[[]]\n",
    "while True:\n",
    "\n",
    "    input_image,display_image,output_scale = posenet.read_cap(\n",
    "        cap,scale_factor=1,output_stride=output_stride)\n",
    "    eachstart=time.time()\n",
    "    if count%gap==0:\n",
    "        if start!=None:\n",
    "            fps=\"FPS:{:.3f}\".format(gap/(time.time()-start))\n",
    "        else:\n",
    "            fps=\"FPS:N/A\"\n",
    "        start=time.time()\n",
    "        pose_score,points,scores=poseEst.pose_est(sess,input_image,model_outputs,output_stride,output_scale)\n",
    "        last_image=display_image\n",
    "    else:\n",
    "        try:\n",
    "            points=lucas.getDet(last_image,display_image,points,win_s,numLevel)\n",
    "        except:\n",
    "            count=0\n",
    "            continue\n",
    "    count+=1\n",
    "    try:\n",
    "        image = posenet.draw_skel_and_kp(\n",
    "            display_image,pose_score,scores,points,\n",
    "            min_pose_score=0,min_part_score=0.1)\n",
    "    except:\n",
    "        continue\n",
    "\n",
    "    exec_data[-1].append(time.time()-eachstart)\n",
    "\n",
    "    image[10:150,10:230]=[0,0,0]\n",
    "    font=cv2.FONT_HERSHEY_SIMPLEX\n",
    "\n",
    "    image  =  cv2.putText(image,fps,(20,40),font,1,(255,255,255),3)\n",
    "\n",
    "    image  =  cv2.putText(image,\"Gap:\"+str(gap),(20,80),font,0.5,(255,255,255),1)\n",
    "    image  =  cv2.putText(image,\"[w:   s:  ]\",(125,80),font,0.5,(255,255,255),1)\n",
    "    image  =  cv2.arrowedLine(image, (155,80), (155,70), (255,255,255), 1, tipLength=0.5)\n",
    "    image  =  cv2.arrowedLine(image, (190,70), (190,80), (255,255,255), 1, tipLength=0.5)\n",
    "\n",
    "    image  =  cv2.putText(image,\"Win:\"+str(win_s),(20,100),font,0.5,(255,255,255),1)\n",
    "    image  =  cv2.putText(image,\"[d:   a:  ]\",(125,100),font,0.5,(255,255,255),1)\n",
    "    image  =  cv2.arrowedLine(image, (155,100), (155,90), (255,255,255), 1, tipLength=0.5)\n",
    "    image  =  cv2.arrowedLine(image, (190,90), (190,100), (255,255,255), 1, tipLength=0.5)\n",
    "\n",
    "    image  =  cv2.putText(image,\"Levels:\"+str(numLevel),(20,120),font,0.5,(255,255,255),1)\n",
    "    image  =  cv2.putText(image,\"[x:   z:  ]\",(125,120),font,0.5,(255,255,255),1)\n",
    "    image  =  cv2.arrowedLine(image, (155,120), (155,110), (255,255,255), 1, tipLength=0.5)\n",
    "    image  =  cv2.arrowedLine(image, (190,110), (190,120), (255,255,255), 1, tipLength=0.5)\n",
    "\n",
    "    cv2.imshow('lucas',image)\n",
    "\n",
    "\n",
    "    ch  =  cv2.waitKey(1)\n",
    "\n",
    "    if(ch == ord('q') or ch == ord('Q')):\n",
    "        break\n",
    "    elif ch==ord('w') or ch == ord('W'):\n",
    "        gap+=1\n",
    "        exec_data.append([])\n",
    "    elif ch==ord('s') or ch == ord('S'):\n",
    "        gap=max(1,gap-1)\n",
    "        exec_data.append([])\n",
    "    elif ch==ord('a') or ch == ord('A'):\n",
    "        win_s=max(5,win_s-5)\n",
    "    elif ch==ord('d') or ch == ord('D'):\n",
    "        win_s+=5\n",
    "    elif ch==ord('X') or ch == ord('x'):\n",
    "        numLevel+=1\n",
    "    elif ch==ord('Z') or ch == ord('z'):\n",
    "        numLevel=max(1,numLevel-1)\n",
    "\n",
    "cap.release()\n",
    "cv2.destroyAllWindows()\n",
    "\n",
    "import matplotlib.pyplot as plt\n",
    "for i in exec_data:\n",
    "    plt.plot(i[:100])\n",
    "\n",
    "plt.show()"
   ]
  },
  {
   "cell_type": "code",
   "execution_count": null,
   "metadata": {},
   "outputs": [],
   "source": []
  }
 ],
 "metadata": {
  "kernelspec": {
   "display_name": "Python 3.7.6 64-bit ('base': conda)",
   "language": "python",
   "name": "python37664bitbaseconda3225816d5aa94ecb876dc003ddbbc562"
  },
  "language_info": {
   "codemirror_mode": {
    "name": "ipython",
    "version": 3
   },
   "file_extension": ".py",
   "mimetype": "text/x-python",
   "name": "python",
   "nbconvert_exporter": "python",
   "pygments_lexer": "ipython3",
   "version": "3.7.6"
  }
 },
 "nbformat": 4,
 "nbformat_minor": 4
}
